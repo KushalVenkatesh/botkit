{
  "nbformat": 4,
  "nbformat_minor": 0,
  "metadata": {
    "colab": {
      "name": "Text summarization algorithm in python using Gensim (1).ipynb",
      "version": "0.3.2",
      "provenance": [],
      "include_colab_link": true
    },
    "kernelspec": {
      "display_name": "Python 3",
      "language": "python",
      "name": "python3"
    }
  },
  "cells": [
    {
      "cell_type": "markdown",
      "metadata": {
        "id": "view-in-github",
        "colab_type": "text"
      },
      "source": [
        "[View in Colaboratory](https://colab.research.google.com/github/KushalVenkatesh/botkit/blob/master/Text_summarization_algorithm_in_python_using_Gensim_(1).ipynb)"
      ]
    },
    {
      "metadata": {
        "id": "EQ4aq2MVNenv",
        "colab_type": "text"
      },
      "cell_type": "markdown",
      "source": [
        "Text summarization is one of the newest and most exciting fields in NLP, allowing for developers to quickly find meaning and extract key words and phrases from documents. \n",
        "Here I have made an attempt to give the user a walk through on text summarization features in Gensim.\n",
        "\n",
        "The gensim implementation is based on the popular “TextRank” algorithm and was contributed by the people from the Engineering Faculty of the University in Buenos Aires. "
      ]
    },
    {
      "metadata": {
        "id": "4hAHm8KUNenv",
        "colab_type": "text"
      },
      "cell_type": "markdown",
      "source": [
        "Text Summarization using Gensim:\n",
        "\n",
        "This module automatically summarizes the given text, by extracting one or more important sentences from the text. In a similar way, it can also extract keywords.\n",
        "\n",
        "Here, I will demonstrate how to use this summarization module via some examples. First, we will try a small example, then we will try two larger ones, and then we will review the performance of the summarizer in terms of speed.\n",
        "\n",
        "This summarizer is based on the \"TextRank\" algorithm, from an article by Mihalcea et al. This algorithm was later improved upon by Barrios et al. in another article, by introducing something called a \"BM25 ranking function\". For following this, we have to install python and gensim."
      ]
    },
    {
      "metadata": {
        "id": "6ZeBHEgrNenw",
        "colab_type": "text"
      },
      "cell_type": "markdown",
      "source": [
        "Let us install gensim using pip command. It can also be installed via the CLI in the anaconda promt."
      ]
    },
    {
      "metadata": {
        "id": "-w3sz6gPNenx",
        "colab_type": "code",
        "colab": {},
        "outputId": "d9e79fd0-554d-4951-e21a-5021645425fa"
      },
      "cell_type": "code",
      "source": [
        "!pip install gensim\n"
      ],
      "execution_count": 0,
      "outputs": [
        {
          "output_type": "stream",
          "text": [
            "Collecting gensim\n",
            "  Downloading https://files.pythonhosted.org/packages/eb/b5/e74d478d9e89528cc869c52a6d794f5a7dc5452585e23ad24db513636dc1/gensim-3.4.0-cp36-cp36m-win_amd64.whl (22.5MB)\n",
            "Requirement already satisfied: numpy>=1.11.3 in c:\\users\\kusha\\newanaconda3\\lib\\site-packages (from gensim) (1.14.3)\n",
            "Requirement already satisfied: six>=1.5.0 in c:\\users\\kusha\\newanaconda3\\lib\\site-packages (from gensim) (1.11.0)\n",
            "Requirement already satisfied: scipy>=0.18.1 in c:\\users\\kusha\\newanaconda3\\lib\\site-packages (from gensim) (1.1.0)\n",
            "Collecting smart-open>=1.2.1 (from gensim)\n",
            "  Downloading https://files.pythonhosted.org/packages/4b/69/c92661a333f733510628f28b8282698b62cdead37291c8491f3271677c02/smart_open-1.5.7.tar.gz\n",
            "Requirement already satisfied: boto>=2.32 in c:\\users\\kusha\\newanaconda3\\lib\\site-packages (from smart-open>=1.2.1->gensim) (2.48.0)\n",
            "Collecting bz2file (from smart-open>=1.2.1->gensim)\n",
            "  Downloading https://files.pythonhosted.org/packages/61/39/122222b5e85cd41c391b68a99ee296584b2a2d1d233e7ee32b4532384f2d/bz2file-0.98.tar.gz\n",
            "Requirement already satisfied: requests in c:\\users\\kusha\\newanaconda3\\lib\\site-packages (from smart-open>=1.2.1->gensim) (2.18.4)\n",
            "Collecting boto3 (from smart-open>=1.2.1->gensim)\n",
            "  Downloading https://files.pythonhosted.org/packages/cf/94/a27c0437087d412932a187879af6f7a0839509368a643e6caca229a4529a/boto3-1.7.44-py2.py3-none-any.whl (128kB)\n",
            "Requirement already satisfied: chardet<3.1.0,>=3.0.2 in c:\\users\\kusha\\newanaconda3\\lib\\site-packages (from requests->smart-open>=1.2.1->gensim) (3.0.4)\n",
            "Requirement already satisfied: idna<2.7,>=2.5 in c:\\users\\kusha\\newanaconda3\\lib\\site-packages (from requests->smart-open>=1.2.1->gensim) (2.6)\n",
            "Requirement already satisfied: urllib3<1.23,>=1.21.1 in c:\\users\\kusha\\newanaconda3\\lib\\site-packages (from requests->smart-open>=1.2.1->gensim) (1.22)\n",
            "Requirement already satisfied: certifi>=2017.4.17 in c:\\users\\kusha\\newanaconda3\\lib\\site-packages (from requests->smart-open>=1.2.1->gensim) (2018.4.16)\n",
            "Collecting botocore<1.11.0,>=1.10.44 (from boto3->smart-open>=1.2.1->gensim)\n",
            "  Downloading https://files.pythonhosted.org/packages/a5/f7/80f2e100e6051ee85caecf852b809b042e260f890516a70e3a7831fc9950/botocore-1.10.44-py2.py3-none-any.whl (4.4MB)\n",
            "Collecting jmespath<1.0.0,>=0.7.1 (from boto3->smart-open>=1.2.1->gensim)\n",
            "  Downloading https://files.pythonhosted.org/packages/b7/31/05c8d001f7f87f0f07289a5fc0fc3832e9a57f2dbd4d3b0fee70e0d51365/jmespath-0.9.3-py2.py3-none-any.whl\n",
            "Collecting s3transfer<0.2.0,>=0.1.10 (from boto3->smart-open>=1.2.1->gensim)\n",
            "  Downloading https://files.pythonhosted.org/packages/d7/14/2a0004d487464d120c9fb85313a75cd3d71a7506955be458eebfe19a6b1d/s3transfer-0.1.13-py2.py3-none-any.whl (59kB)\n",
            "Requirement already satisfied: docutils>=0.10 in c:\\users\\kusha\\newanaconda3\\lib\\site-packages (from botocore<1.11.0,>=1.10.44->boto3->smart-open>=1.2.1->gensim) (0.14)\n",
            "Requirement already satisfied: python-dateutil<3.0.0,>=2.1; python_version >= \"2.7\" in c:\\users\\kusha\\newanaconda3\\lib\\site-packages (from botocore<1.11.0,>=1.10.44->boto3->smart-open>=1.2.1->gensim) (2.6.1)\n",
            "Building wheels for collected packages: smart-open, bz2file\n",
            "  Running setup.py bdist_wheel for smart-open: started\n",
            "  Running setup.py bdist_wheel for smart-open: finished with status 'done'\n",
            "  Stored in directory: C:\\Users\\kusha\\AppData\\Local\\pip\\Cache\\wheels\\b1\\9e\\7d\\bb3d3b55c597e72617140a0638c06382a5f17283881eae163e\n",
            "  Running setup.py bdist_wheel for bz2file: started\n",
            "  Running setup.py bdist_wheel for bz2file: finished with status 'done'\n",
            "  Stored in directory: C:\\Users\\kusha\\AppData\\Local\\pip\\Cache\\wheels\\81\\75\\d6\\e1317bf09bf1af5a30befc2a007869fa6e1f516b8f7c591cb9\n",
            "Successfully built smart-open bz2file\n",
            "Installing collected packages: bz2file, jmespath, botocore, s3transfer, boto3, smart-open, gensim\n",
            "Successfully installed boto3-1.7.44 botocore-1.10.44 bz2file-0.98 gensim-3.4.0 jmespath-0.9.3 s3transfer-0.1.13 smart-open-1.5.7\n"
          ],
          "name": "stdout"
        }
      ]
    },
    {
      "metadata": {
        "id": "PrBSkk83Nen2",
        "colab_type": "text"
      },
      "cell_type": "markdown",
      "source": [
        "After installing gensim, we have to import summarize package from gensim.summarization"
      ]
    },
    {
      "metadata": {
        "id": "gGMPB2SCNen3",
        "colab_type": "code",
        "colab": {},
        "outputId": "8471d192-231e-4c02-ebf2-baa544e1d446"
      },
      "cell_type": "code",
      "source": [
        "import logging\n",
        "logging.basicConfig(format='%(asctime)s : %(levelname)s : %(message)s', level=logging.INFO)\n",
        "\n",
        "from gensim.summarization import summarize"
      ],
      "execution_count": 0,
      "outputs": [
        {
          "output_type": "stream",
          "text": [
            "C:\\Users\\kusha\\NewAnaconda3\\lib\\site-packages\\gensim\\utils.py:1197: UserWarning: detected Windows; aliasing chunkize to chunkize_serial\n",
            "  warnings.warn(\"detected Windows; aliasing chunkize to chunkize_serial\")\n",
            "2018-06-22 12:00:54,485 : INFO : 'pattern' package not found; tag filters are not available for English\n"
          ],
          "name": "stderr"
        }
      ]
    },
    {
      "metadata": {
        "id": "83SzWA41Nen7",
        "colab_type": "text"
      },
      "cell_type": "markdown",
      "source": [
        "Here I will demonstrate how to summarize text using a small toy example; \n",
        "later, we will use a larger piece of text. \n",
        "In reality, the text is very small, but it suffices to act as an illustrative example."
      ]
    },
    {
      "metadata": {
        "id": "A43jbnFkNen7",
        "colab_type": "code",
        "colab": {},
        "outputId": "6712fb42-483d-44d7-9ee1-82d389e91654"
      },
      "cell_type": "code",
      "source": [
        "text = \"Thomas A. Anderson is a man living two lives. By day he is an \" + \\\n",
        "    \"average computer programmer and by night a hacker known as \" + \\\n",
        "    \"Neo. Neo has always questioned his reality, but the truth is \" + \\\n",
        "    \"far beyond his imagination. Neo finds himself targeted by the \" + \\\n",
        "    \"police when he is contacted by Morpheus, a legendary computer \" + \\\n",
        "    \"hacker branded a terrorist by the government. Morpheus awakens \" + \\\n",
        "    \"Neo to the real world, a ravaged wasteland where most of \" + \\\n",
        "    \"humanity have been captured by a race of machines that live \" + \\\n",
        "    \"off of the humans' body heat and electrochemical energy and \" + \\\n",
        "    \"who imprison their minds within an artificial reality known as \" + \\\n",
        "    \"the Matrix. As a rebel against the machines, Neo must return to \" + \\\n",
        "    \"the Matrix and confront the agents: super-powerful computer \" + \\\n",
        "    \"programs devoted to snuffing out Neo and the entire human \" + \\\n",
        "    \"rebellion. \"\n",
        "\n",
        "print ('Input text:')\n",
        "print (text)"
      ],
      "execution_count": 0,
      "outputs": [
        {
          "output_type": "stream",
          "text": [
            "Input text:\n",
            "Thomas A. Anderson is a man living two lives. By day he is an average computer programmer and by night a hacker known as Neo. Neo has always questioned his reality, but the truth is far beyond his imagination. Neo finds himself targeted by the police when he is contacted by Morpheus, a legendary computer hacker branded a terrorist by the government. Morpheus awakens Neo to the real world, a ravaged wasteland where most of humanity have been captured by a race of machines that live off of the humans' body heat and electrochemical energy and who imprison their minds within an artificial reality known as the Matrix. As a rebel against the machines, Neo must return to the Matrix and confront the agents: super-powerful computer programs devoted to snuffing out Neo and the entire human rebellion. \n"
          ],
          "name": "stdout"
        }
      ]
    },
    {
      "metadata": {
        "id": "GfF_Xi-MNeoA",
        "colab_type": "code",
        "colab": {}
      },
      "cell_type": "code",
      "source": [
        "To summarize this text, I have passed the raw string data as input to the function \"summarize\", and\n",
        "it will return a summary.\n",
        "\n",
        "Please Note: I have made sure that the string does not contain any newlines where the line breaks in a sentence. \n",
        "A sentence with a newline in it (i.e. a carriage return, \"\\n\") will be treated as two sentences."
      ],
      "execution_count": 0,
      "outputs": []
    },
    {
      "metadata": {
        "id": "M7lTthWRNeoC",
        "colab_type": "code",
        "colab": {},
        "outputId": "a843428a-c13a-4065-b576-6c4a3f487f02"
      },
      "cell_type": "code",
      "source": [
        "print ('Summary:')\n",
        "print (summarize(text))"
      ],
      "execution_count": 0,
      "outputs": [
        {
          "output_type": "stream",
          "text": [
            "2018-06-22 12:04:17,333 : WARNING : Input text is expected to have at least 10 sentences.\n",
            "2018-06-22 12:04:17,335 : INFO : adding document #0 to Dictionary(0 unique tokens: [])\n",
            "2018-06-22 12:04:17,336 : INFO : built Dictionary(53 unique tokens: ['thoma', 'anderson', 'live', 'man', 'averag']...) from 6 documents (total 68 corpus positions)\n",
            "2018-06-22 12:04:17,336 : WARNING : Input corpus is expected to have at least 10 documents.\n"
          ],
          "name": "stderr"
        },
        {
          "output_type": "stream",
          "text": [
            "Summary:\n",
            "Morpheus awakens Neo to the real world, a ravaged wasteland where most of humanity have been captured by a race of machines that live off of the humans' body heat and electrochemical energy and who imprison their minds within an artificial reality known as the Matrix.\n"
          ],
          "name": "stdout"
        }
      ]
    },
    {
      "metadata": {
        "id": "p7KQGKYkNeoE",
        "colab_type": "text"
      },
      "cell_type": "markdown",
      "source": [
        "Here, I can also use the \"split\" option if I want a list of strings instead of a single string."
      ]
    },
    {
      "metadata": {
        "id": "q-HEQiCYNeoF",
        "colab_type": "code",
        "colab": {},
        "outputId": "454c1afd-63be-449d-ef33-d68b48d7ac96"
      },
      "cell_type": "code",
      "source": [
        "print (summarize(text, split=True))"
      ],
      "execution_count": 0,
      "outputs": [
        {
          "output_type": "stream",
          "text": [
            "2018-06-22 12:05:26,499 : WARNING : Input text is expected to have at least 10 sentences.\n",
            "2018-06-22 12:05:26,501 : INFO : adding document #0 to Dictionary(0 unique tokens: [])\n",
            "2018-06-22 12:05:26,501 : INFO : built Dictionary(53 unique tokens: ['thoma', 'anderson', 'live', 'man', 'averag']...) from 6 documents (total 68 corpus positions)\n",
            "2018-06-22 12:05:26,502 : WARNING : Input corpus is expected to have at least 10 documents.\n"
          ],
          "name": "stderr"
        },
        {
          "output_type": "stream",
          "text": [
            "[\"Morpheus awakens Neo to the real world, a ravaged wasteland where most of humanity have been captured by a race of machines that live off of the humans' body heat and electrochemical energy and who imprison their minds within an artificial reality known as the Matrix.\"]\n"
          ],
          "name": "stdout"
        }
      ]
    },
    {
      "metadata": {
        "id": "2JlhVjrKNeoH",
        "colab_type": "code",
        "colab": {},
        "outputId": "0e6ea060-a1f9-47f2-ed46-d487ea84ccf5"
      },
      "cell_type": "code",
      "source": [
        "#print (summarize(text, split=True))"
      ],
      "execution_count": 0,
      "outputs": [
        {
          "output_type": "stream",
          "text": [
            "2018-06-22 12:08:17,274 : WARNING : Input text is expected to have at least 10 sentences.\n",
            "2018-06-22 12:08:17,275 : INFO : adding document #0 to Dictionary(0 unique tokens: [])\n",
            "2018-06-22 12:08:17,276 : INFO : built Dictionary(53 unique tokens: ['thoma', 'anderson', 'live', 'man', 'averag']...) from 6 documents (total 68 corpus positions)\n",
            "2018-06-22 12:08:17,277 : WARNING : Input corpus is expected to have at least 10 documents.\n"
          ],
          "name": "stderr"
        },
        {
          "output_type": "stream",
          "text": [
            "[\"Morpheus awakens Neo to the real world, a ravaged wasteland where most of humanity have been captured by a race of machines that live off of the humans' body heat and electrochemical energy and who imprison their minds within an artificial reality known as the Matrix.\"]\n"
          ],
          "name": "stdout"
        }
      ]
    },
    {
      "metadata": {
        "id": "UhOPBpabNeoJ",
        "colab_type": "text"
      },
      "cell_type": "markdown",
      "source": [
        "Here, I can adjust how much text the summarizer outputs, via the \"ratio\" parameter or the \"word_count\" parameter. Using the \"ratio\" parameter, I can specify what fraction of sentences in the original text should be returned as output. Below I have specified that we want 50% of the original text (the default is 20%)."
      ]
    },
    {
      "metadata": {
        "id": "61S1Mx8ENeoL",
        "colab_type": "code",
        "colab": {},
        "outputId": "da588791-3187-4bf5-e706-67055018c98c"
      },
      "cell_type": "code",
      "source": [
        "print ('Summary:')\n",
        "print (summarize(text, ratio=0.5))"
      ],
      "execution_count": 0,
      "outputs": [
        {
          "output_type": "stream",
          "text": [
            "2018-06-22 12:08:55,161 : WARNING : Input text is expected to have at least 10 sentences.\n",
            "2018-06-22 12:08:55,162 : INFO : adding document #0 to Dictionary(0 unique tokens: [])\n",
            "2018-06-22 12:08:55,163 : INFO : built Dictionary(53 unique tokens: ['thoma', 'anderson', 'live', 'man', 'averag']...) from 6 documents (total 68 corpus positions)\n",
            "2018-06-22 12:08:55,164 : WARNING : Input corpus is expected to have at least 10 documents.\n"
          ],
          "name": "stderr"
        },
        {
          "output_type": "stream",
          "text": [
            "Summary:\n",
            "By day he is an average computer programmer and by night a hacker known as Neo. Neo has always questioned his reality, but the truth is far beyond his imagination.\n",
            "Morpheus awakens Neo to the real world, a ravaged wasteland where most of humanity have been captured by a race of machines that live off of the humans' body heat and electrochemical energy and who imprison their minds within an artificial reality known as the Matrix.\n",
            "As a rebel against the machines, Neo must return to the Matrix and confront the agents: super-powerful computer programs devoted to snuffing out Neo and the entire human rebellion.\n"
          ],
          "name": "stdout"
        }
      ]
    },
    {
      "metadata": {
        "id": "_isNWtpINeoO",
        "colab_type": "text"
      },
      "cell_type": "markdown",
      "source": [
        "Using the \"word_count\" parameter, I can specify the maximum amount of words we want in the summary. Below I have specified that we want no more than 50 words."
      ]
    },
    {
      "metadata": {
        "id": "CHAjZ4aPNeoQ",
        "colab_type": "code",
        "colab": {},
        "outputId": "4c5dae77-93a6-4df3-f47f-3863f2929ea2"
      },
      "cell_type": "code",
      "source": [
        "print ('Summary:')\n",
        "print (summarize(text, word_count=50))"
      ],
      "execution_count": 0,
      "outputs": [
        {
          "output_type": "stream",
          "text": [
            "2018-06-22 12:10:02,773 : WARNING : Input text is expected to have at least 10 sentences.\n",
            "2018-06-22 12:10:02,774 : INFO : adding document #0 to Dictionary(0 unique tokens: [])\n",
            "2018-06-22 12:10:02,775 : INFO : built Dictionary(53 unique tokens: ['thoma', 'anderson', 'live', 'man', 'averag']...) from 6 documents (total 68 corpus positions)\n",
            "2018-06-22 12:10:02,775 : WARNING : Input corpus is expected to have at least 10 documents.\n"
          ],
          "name": "stderr"
        },
        {
          "output_type": "stream",
          "text": [
            "Summary:\n",
            "Morpheus awakens Neo to the real world, a ravaged wasteland where most of humanity have been captured by a race of machines that live off of the humans' body heat and electrochemical energy and who imprison their minds within an artificial reality known as the Matrix.\n"
          ],
          "name": "stdout"
        }
      ]
    },
    {
      "metadata": {
        "id": "eePHNLu4NeoU",
        "colab_type": "text"
      },
      "cell_type": "markdown",
      "source": [
        "This module also supports keyword extraction. Keyword extraction works in the same way as summary generation (i.e. sentence extraction), in that the algorithm tries to find words that are important or seem representative of the entire text. The keywords are not always single words; in the case of multi-word keywords, they are typically all nouns."
      ]
    },
    {
      "metadata": {
        "id": "6nXzKo-5NeoV",
        "colab_type": "code",
        "colab": {},
        "outputId": "a3d6ef8b-145f-4442-b3a2-a0694392a7d5"
      },
      "cell_type": "code",
      "source": [
        "from gensim.summarization import keywords\n",
        "\n",
        "print ('Keywords:')\n",
        "print (keywords(text))"
      ],
      "execution_count": 0,
      "outputs": [
        {
          "output_type": "stream",
          "text": [
            "Keywords:\n",
            "humanity\n",
            "human\n",
            "neo\n",
            "humans body\n",
            "super\n",
            "reality\n",
            "hacker\n"
          ],
          "name": "stdout"
        }
      ]
    },
    {
      "metadata": {
        "id": "XBSyRxzoNeoY",
        "colab_type": "text"
      },
      "cell_type": "markdown",
      "source": [
        "Here I will use another example with a larger piece of text. I will be using a synopsis of the movie \"The Matrix\", which I have taken from the IMDb page, mentioned below.\n",
        "\n",
        "In the code below, I have read the text file directly from a web-page using \"requests\". Then I will demonstrate how to produce a summary and some keywords."
      ]
    },
    {
      "metadata": {
        "id": "vADvDj63NeoZ",
        "colab_type": "code",
        "colab": {},
        "outputId": "fc4a2eed-3268-424e-a773-a20ee17243a1"
      },
      "cell_type": "code",
      "source": [
        "import requests\n",
        "\n",
        "text = requests.get('http://rare-technologies.com/the_matrix_synopsis.txt').text\n",
        "\n",
        "print ('Summary:')\n",
        "print (summarize(text, ratio=0.01))\n",
        "\n",
        "print ('\\nKeywords:')\n",
        "print (keywords(text, ratio=0.01))"
      ],
      "execution_count": 0,
      "outputs": [
        {
          "output_type": "stream",
          "text": [
            "2018-06-22 12:12:29,709 : INFO : adding document #0 to Dictionary(0 unique tokens: [])\n",
            "2018-06-22 12:12:29,714 : INFO : built Dictionary(1093 unique tokens: ['cascad', 'code', 'fill', 'give', 'green']...) from 416 documents (total 2985 corpus positions)\n"
          ],
          "name": "stderr"
        },
        {
          "output_type": "stream",
          "text": [
            "Summary:\n",
            "Anderson, a software engineer for a Metacortex, the other life as Neo, a computer hacker \"guilty of virtually every computer crime we have a law for.\" Agent Smith asks him to help them capture Morpheus, a dangerous terrorist, in exchange for amnesty.\n",
            "Morpheus explains that he's been searching for Neo his entire life and asks if Neo feels like \"Alice in Wonderland, falling down the rabbit hole.\" He explains to Neo that they exist in the Matrix, a false reality that has been constructed for humans to hide the truth.\n",
            "Neo is introduced to Morpheus's crew including Trinity; Apoc (Julian Arahanga), a man with long, flowing black hair; Switch; Cypher (bald with a goatee); two brawny brothers, Tank (Marcus Chong) and Dozer (Anthony Ray Parker); and a young, thin man named Mouse (Matt Doran).\n",
            "Trinity brings the helicopter down to the floor that Morpheus is on and Neo opens fire on the three Agents.\n",
            "\n",
            "Keywords:\n",
            "neo\n",
            "morpheus\n",
            "trinity\n",
            "cypher\n",
            "agents\n",
            "agent\n",
            "smith\n",
            "tank\n",
            "says\n",
            "saying\n"
          ],
          "name": "stdout"
        }
      ]
    },
    {
      "metadata": {
        "id": "AOUwA0bCNeob",
        "colab_type": "text"
      },
      "cell_type": "markdown",
      "source": [
        "If we know this movie or have seen it before, we see that this summary is actually quite good. \n",
        "We also see that some of the most important characters (Neo, Morpheus, Trinity) were extracted \n",
        "as keywords as well."
      ]
    },
    {
      "metadata": {
        "id": "VN2AlDwPNeoc",
        "colab_type": "text"
      },
      "cell_type": "markdown",
      "source": [
        "Let me demonstrate another example similar to the one above. \n",
        "This time, I will use the IMDb synopsis of the move \"The Big Lebowski\".\n",
        "\n",
        "Again, I have downloaded the text and will demonstrate how to produce a summary and some keywords."
      ]
    },
    {
      "metadata": {
        "id": "n_nN4-RYNeod",
        "colab_type": "code",
        "colab": {},
        "outputId": "5dbb5d90-c5a2-4c5e-bbbc-f38c632a543e"
      },
      "cell_type": "code",
      "source": [
        "import requests\n",
        "\n",
        "text = requests.get('http://rare-technologies.com/the_big_lebowski_synopsis.txt').text\n",
        "\n",
        "print ('Summary:')\n",
        "print (summarize(text, ratio=0.01))\n",
        "\n",
        "print ('\\nKeywords:')\n",
        "print (keywords(text, ratio=0.01))"
      ],
      "execution_count": 0,
      "outputs": [
        {
          "output_type": "stream",
          "text": [
            "2018-06-22 12:14:41,888 : INFO : adding document #0 to Dictionary(0 unique tokens: [])\n",
            "2018-06-22 12:14:41,892 : INFO : built Dictionary(1054 unique tokens: ['angel', 'elliott', 'fella', 'hillsid', 'jeffrei']...) from 227 documents (total 2434 corpus positions)\n"
          ],
          "name": "stderr"
        },
        {
          "output_type": "stream",
          "text": [
            "Summary:\n",
            "Dude agrees to meet with the Big Lebowski, hoping to get compensation for his rug since it \"really tied the room together\" and figures that his wife, Bunny, shouldn't be owing money around town.\n",
            "Walter resolves to go to Plan B; he tells Larry to watch out the window as he and Dude go back out to the car where Donny is waiting.\n",
            "\n",
            "Keywords:\n",
            "dude\n",
            "dudes\n",
            "walter\n",
            "lebowski\n",
            "brandt\n",
            "maude\n",
            "donny\n",
            "bunny\n"
          ],
          "name": "stdout"
        }
      ]
    },
    {
      "metadata": {
        "id": "WudXl7_hNeof",
        "colab_type": "text"
      },
      "cell_type": "markdown",
      "source": [
        "Its interesting to note that the keywords above have managed to find some of the main characters in the movie."
      ]
    },
    {
      "metadata": {
        "id": "0oTu0ee-Neof",
        "colab_type": "text"
      },
      "cell_type": "markdown",
      "source": [
        "Perfomance:Performance has been good for the above datasets as these tests were run on on my system: \n",
        "Windows 10 Home @2018 Microsoft Corporation with \n",
        "an Intel(R) Core(TM) i7-8550U CPU @ 1.80GHz 1.99GHZ "
      ]
    },
    {
      "metadata": {
        "id": "xpPiQe7jNeog",
        "colab_type": "text"
      },
      "cell_type": "markdown",
      "source": [
        "These tests were also able to run on an Intel Core i5 4210U CPU @ 1.70 GHz x 4 processor. The tests were able able to run on the book called \"Honest Abe\" written by Alonzo Rothschild as well. "
      ]
    }
  ]
}